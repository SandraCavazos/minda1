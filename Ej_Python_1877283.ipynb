{
  "nbformat": 4,
  "nbformat_minor": 0,
  "metadata": {
    "colab": {
      "name": "Ej_Python_1877283.ipynb",
      "provenance": [],
      "collapsed_sections": [],
      "authorship_tag": "ABX9TyNtKoexymBVr9aAB/851t2g",
      "include_colab_link": true
    },
    "kernelspec": {
      "name": "python3",
      "display_name": "Python 3"
    },
    "language_info": {
      "name": "python"
    }
  },
  "cells": [
    {
      "cell_type": "markdown",
      "metadata": {
        "id": "view-in-github",
        "colab_type": "text"
      },
      "source": [
        "<a href=\"https://colab.research.google.com/github/SandraCavazos/minda1/blob/main/Ej_Python_1877283.ipynb\" target=\"_parent\"><img src=\"https://colab.research.google.com/assets/colab-badge.svg\" alt=\"Open In Colab\"/></a>"
      ]
    },
    {
      "cell_type": "markdown",
      "metadata": {
        "id": "jsmpHobPtL5l"
      },
      "source": [
        "## **Ejercicios 1 al 5**"
      ]
    },
    {
      "cell_type": "markdown",
      "metadata": {
        "id": "Lz-3Xfn-Go3O"
      },
      "source": [
        "Ejercicio 1: Realiza una variable con tu matricula y realiza una secuencia de imprimir con tu nombre y tu matricula concatenados."
      ]
    },
    {
      "cell_type": "code",
      "metadata": {
        "colab": {
          "base_uri": "https://localhost:8080/"
        },
        "id": "TtTmEAgsGb61",
        "outputId": "b7e445dd-210d-4260-98f3-7298680f7f38"
      },
      "source": [
        "mat= 1877283\n",
        "print(mat, \"Sandra María Cavazos Huerta\")"
      ],
      "execution_count": 406,
      "outputs": [
        {
          "output_type": "stream",
          "text": [
            "1877283 Sandra María Cavazos Huerta\n"
          ],
          "name": "stdout"
        }
      ]
    },
    {
      "cell_type": "markdown",
      "metadata": {
        "id": "vlGISuMtHLKF"
      },
      "source": [
        "Ejercicio 2:\n",
        "Pidiendo el input del usuario pide dos números y crea una pequeña calculadora con los operadores básicos de suma, resta, multiplicación, división, y exponente."
      ]
    },
    {
      "cell_type": "code",
      "metadata": {
        "colab": {
          "base_uri": "https://localhost:8080/"
        },
        "id": "x1X0aTckGn5w",
        "outputId": "c1011fc5-8ceb-4b2b-c001-cd6f71363b20"
      },
      "source": [
        "#pide 2 números enteros\n",
        "a=int(input(\"Introduce un número entero para variable 'a': \" ))\n",
        "b=int(input(\"Introduce otro número entero para variable 'b': \"))\n",
        "\n",
        "#imprime el menú de operaciones\n",
        "print(\"\"\"      Operaciones\n",
        "         1. Suma (a+b)\n",
        "         2. Resta (a-b)\n",
        "         3. Multiplicación (a*b)\n",
        "         4. División (a/b)\n",
        "         5. Exponente (a^b)\"\"\")\n",
        "\n",
        "#loop para selección de menú y realizar la operación\n",
        "selección=0\n",
        "while selección not in range(1,5):\n",
        "  selección=int(input(\"Seleccione el tipo de operación que desea realizar: \"))\n",
        "\n",
        "  if selección==1:\n",
        "    res=a+b\n",
        "  elif selección==2:\n",
        "    res=a-b\n",
        "  elif selección==3:\n",
        "    res=a*b\n",
        "  elif selección==4:\n",
        "    if b==0:\n",
        "      print(\"No se puede realizar dicha operación\")\n",
        "      break\n",
        "    else:\n",
        "      res=a/b\n",
        "  elif selección==5:\n",
        "    res=a**b\n",
        "  else:\n",
        "    print(\"Ingrese una opción dentro del menú\")\n",
        "\n",
        "#impresión del resultado\n",
        "if (b==0 and selección==4) is not True :\n",
        "  print(\"El resultado de la operación solicitada _\", selección, \"_ con los números\", a, \"y\", b, \"es: \", res)\n"
      ],
      "execution_count": 407,
      "outputs": [
        {
          "output_type": "stream",
          "text": [
            "Introduce un número entero para variable 'a': 5\n",
            "Introduce otro número entero para variable 'b': 10\n",
            "      Operaciones\n",
            "         1. Suma (a+b)\n",
            "         2. Resta (a-b)\n",
            "         3. Multiplicación (a*b)\n",
            "         4. División (a/b)\n",
            "         5. Exponente (a^b)\n",
            "Seleccione el tipo de operación que desea realizar: 3\n",
            "El resultado de la operación solicitada _ 3 _ con los números 5 y 10 es:  50\n"
          ],
          "name": "stdout"
        }
      ]
    },
    {
      "cell_type": "markdown",
      "metadata": {
        "id": "XeCZi9MAJMOO"
      },
      "source": [
        "Ejercicio 3:\n",
        "Con loop while o for, realiza una lista de 10 numeros multiplos de 3, y después realiza una función de loop que sume todos los números dentro del arreglo."
      ]
    },
    {
      "cell_type": "code",
      "metadata": {
        "colab": {
          "base_uri": "https://localhost:8080/"
        },
        "id": "8ohOPlyMJPec",
        "outputId": "a884d2f9-794b-477f-b11d-ac9b5f483b64"
      },
      "source": [
        "#creamos lista con primer elemento 3\n",
        "lista1=[3]\n",
        "\n",
        "#loop para llenar la lista con múltiplos de 3 utilizando el índice i\n",
        "for i in range(2,11):\n",
        "  lista1.append(i*3)\n",
        "\n",
        "#impresión\n",
        "print(\"Lista de 10 números múltiplos de 3: \", lista1)\n",
        "\n",
        "#loop para sumar los números de la lista\n",
        "s=0\n",
        "for i in range(0,10):\n",
        "  s=s+lista1[i]\n",
        "\n",
        "#impresión del resultado\n",
        "print(\"Suma de los 10 números: \", s)"
      ],
      "execution_count": 408,
      "outputs": [
        {
          "output_type": "stream",
          "text": [
            "Lista de 10 números múltiplos de 3:  [3, 6, 9, 12, 15, 18, 21, 24, 27, 30]\n",
            "Suma de los 10 números:  165\n"
          ],
          "name": "stdout"
        }
      ]
    },
    {
      "cell_type": "markdown",
      "metadata": {
        "id": "K81JHfUSLii3"
      },
      "source": [
        "Ejercicio 4\n",
        "Con una función de if else, revisar si un número es par o es impar.\n",
        "Con una función de if else, revisar si un número es primo o no."
      ]
    },
    {
      "cell_type": "code",
      "metadata": {
        "colab": {
          "base_uri": "https://localhost:8080/"
        },
        "id": "RxQQMhmwLmE9",
        "outputId": "84da9b4f-ef41-4ec4-e9ce-3e84106935ca"
      },
      "source": [
        "a=int(input(\"Ingrese un número entero para conocer si es par o impar: \"))\n",
        "\n",
        "#revisando si es un número par o impar\n",
        "if a % 2 == 0:\n",
        "  print(\"El número ingresado \",a, \" es par\")\n",
        "else:\n",
        "  print(\"El número ingresado \",a,\" es impar\")\n",
        "\n",
        "#revisando si es un número primo o no\n",
        "b=int(input(\"Ingrese un número entero para conocer si es primo o no: \"))\n",
        "if b==0 or b==1:\n",
        "  print(\"El número ingresado\", b, \"no es primo\")\n",
        "else:\n",
        "  for i in range(2,b):\n",
        "    if b % i == 0:\n",
        "      t=\"no es primo\"\n",
        "      break\n",
        "    else:\n",
        "      t= \"es primo\"\n",
        "  print(\"El número ingresado \", b, t)"
      ],
      "execution_count": 409,
      "outputs": [
        {
          "output_type": "stream",
          "text": [
            "Ingrese un número entero para conocer si es par o impar: 9\n",
            "El número ingresado  9  es impar\n",
            "Ingrese un número entero para conocer si es primo o no: 9\n",
            "El número ingresado  9 no es primo\n"
          ],
          "name": "stdout"
        }
      ]
    },
    {
      "cell_type": "markdown",
      "metadata": {
        "id": "mgL7Gu3vZS5n"
      },
      "source": [
        "Utilizando diferentes clases en python, crea una calculadora con los operadores básicos de suma, resta, multiplicación, división, y exponente."
      ]
    },
    {
      "cell_type": "code",
      "metadata": {
        "colab": {
          "base_uri": "https://localhost:8080/"
        },
        "id": "n2mV_4DiiY2N",
        "outputId": "6f3e4ea3-c06f-4154-ff67-ba25f4870991"
      },
      "source": [
        "a=[]\n",
        "a.append(float(input(\"Introduce un número para variable 'a': \" )))\n",
        "a.append(float(input(\"Introduce otro número para variable 'b': \")))\n",
        "print(a)\n",
        "type(a[0])\n",
        "type(a[1])\n",
        "print(\"\"\"      Operaciones\n",
        "         1. Suma (a+b)\n",
        "         2. Resta (a-b)\n",
        "         3. Multiplicación (a*b)\n",
        "         4. División (a/b)\n",
        "         5. Exponente (a^b)\"\"\")\n",
        "selección=0\n",
        "while selección not in range(1,5):\n",
        "  selección=int(input(\"Seleccione el tipo de operación que desea realizar: \"))\n",
        "\n",
        "  if selección==1:\n",
        "    res=a[0]+a[1]\n",
        "  elif selección==2:\n",
        "    res=a[0]-a[1]\n",
        "  elif selección==3:\n",
        "    res=a[0]*a[1]\n",
        "  elif selección==4:\n",
        "    if b==0:\n",
        "      print(\"No se puede realizar dicha operación\")\n",
        "      break\n",
        "    else:\n",
        "      res=a[0]/a[1]\n",
        "  elif selección==5:\n",
        "    res=a[0]**a[1]\n",
        "  else:\n",
        "    print(\"Ingrese una opción dentro del menú\")\n",
        "\n",
        "if (a[1]==0 and selección==4) is not True :\n",
        "  print(\"El resultado de la operación solicitada _\", selección, \"_ con los números\", a[0], \"y\", a[1], \"es: \", res)"
      ],
      "execution_count": 410,
      "outputs": [
        {
          "output_type": "stream",
          "text": [
            "Introduce un número para variable 'a': 4\n",
            "Introduce otro número para variable 'b': 2.5\n",
            "[4.0, 2.5]\n",
            "      Operaciones\n",
            "         1. Suma (a+b)\n",
            "         2. Resta (a-b)\n",
            "         3. Multiplicación (a*b)\n",
            "         4. División (a/b)\n",
            "         5. Exponente (a^b)\n",
            "Seleccione el tipo de operación que desea realizar: 1\n",
            "El resultado de la operación solicitada _ 1 _ con los números 4.0 y 2.5 es:  6.5\n"
          ],
          "name": "stdout"
        }
      ]
    },
    {
      "cell_type": "markdown",
      "metadata": {
        "id": "hSKjk5fUaxYL"
      },
      "source": [
        "## **Ejercicios con estructuras básicas de python.**"
      ]
    },
    {
      "cell_type": "markdown",
      "metadata": {
        "id": "yD8l6pQra1qf"
      },
      "source": [
        "### **Tuplas.**"
      ]
    },
    {
      "cell_type": "markdown",
      "metadata": {
        "id": "VBjn-zsIbvrA"
      },
      "source": [
        "Crear una variable flotante, integer, boleana y compleja e imprimir el tipo de variable que es."
      ]
    },
    {
      "cell_type": "code",
      "metadata": {
        "colab": {
          "base_uri": "https://localhost:8080/"
        },
        "id": "eFpG-CYBZcP4",
        "outputId": "6f9f1c33-e75f-4907-e909-5f8f8690ee5b"
      },
      "source": [
        "a=1.97\n",
        "b=2\n",
        "c=True\n",
        "d=5j\n",
        "\n",
        "print(a, type(a), b,type(b), c,type(c), d, type(d))"
      ],
      "execution_count": 411,
      "outputs": [
        {
          "output_type": "stream",
          "text": [
            "1.97 <class 'float'> 2 <class 'int'> True <class 'bool'> 5j <class 'complex'>\n"
          ],
          "name": "stdout"
        }
      ]
    },
    {
      "cell_type": "markdown",
      "metadata": {
        "id": "PRXObRivkWSU"
      },
      "source": [
        "Crear una tupla con valores enteros imprimir el primer y ultimo valor."
      ]
    },
    {
      "cell_type": "code",
      "metadata": {
        "colab": {
          "base_uri": "https://localhost:8080/"
        },
        "id": "veZxUpXJm095",
        "outputId": "3410accb-8dcb-412d-aad1-181b3fd24dff"
      },
      "source": [
        "t1=(2,3,4,6,10)\n",
        "print(\"primer valor: \",t1[0], \"  último valor: \",t1[-1])"
      ],
      "execution_count": 412,
      "outputs": [
        {
          "output_type": "stream",
          "text": [
            "primer valor:  2   último valor:  10\n"
          ],
          "name": "stdout"
        }
      ]
    },
    {
      "cell_type": "markdown",
      "metadata": {
        "id": "J4UWhPx6n2Iz"
      },
      "source": [
        "Añadir 3 valores de string a la tupla."
      ]
    },
    {
      "cell_type": "code",
      "metadata": {
        "colab": {
          "base_uri": "https://localhost:8080/"
        },
        "id": "_694NE68n3HA",
        "outputId": "d5361ea9-5dfa-413f-da92-4614601adef2"
      },
      "source": [
        "t1=t1.__add__(('uno','dos','tres'))\n",
        "print(\"La tupla con los 3 strings es: \", t1)"
      ],
      "execution_count": 413,
      "outputs": [
        {
          "output_type": "stream",
          "text": [
            "La tupla con los 3 strings es:  (2, 3, 4, 6, 10, 'uno', 'dos', 'tres')\n"
          ],
          "name": "stdout"
        }
      ]
    },
    {
      "cell_type": "markdown",
      "metadata": {
        "id": "582rjahvrlkh"
      },
      "source": [
        "Verificar si una variable existe dentro de la tupla."
      ]
    },
    {
      "cell_type": "code",
      "metadata": {
        "colab": {
          "base_uri": "https://localhost:8080/"
        },
        "id": "W8sgP9RlsIFM",
        "outputId": "81020f39-9090-4892-a4a7-3d290e04fbdd"
      },
      "source": [
        "var=input(\"Ingrese la variable a verificar: \")\n",
        "\n",
        "if (var in t1):\n",
        "  print(\"La variable _\", var, \"_ está dentro de la tupla\")\n",
        "else:\n",
        "  print(\"La variable _\",var, \"_ no exsite dentro de la tupla\")"
      ],
      "execution_count": 416,
      "outputs": [
        {
          "output_type": "stream",
          "text": [
            "Ingrese la variable a verificar: uno\n",
            "La variable _ uno _ está dentro de la tupla\n"
          ],
          "name": "stdout"
        }
      ]
    },
    {
      "cell_type": "markdown",
      "metadata": {
        "id": "B-dZIpOQtZnY"
      },
      "source": [
        "### **Listas**"
      ]
    },
    {
      "cell_type": "markdown",
      "metadata": {
        "id": "VQOVDGXYtdl2"
      },
      "source": [
        "Crear una lista con 40 elementos aleatorios enteros."
      ]
    },
    {
      "cell_type": "code",
      "metadata": {
        "colab": {
          "base_uri": "https://localhost:8080/"
        },
        "id": "GzYFWyn-tgI2",
        "outputId": "813468b9-6991-468c-a0a9-75f78de3e002"
      },
      "source": [
        "import random\n",
        "\n",
        "#creamos lista vacía\n",
        "l1=[]\n",
        "\n",
        "#loop para llenar lista con 40 números aleatorios\n",
        "for i in range(0,40):\n",
        "  l1.append(random.randint(0,150))\n",
        "\n",
        "#impresión\n",
        "print(\"Lista con 40 elementos aleatorios enteros\",l1)"
      ],
      "execution_count": 422,
      "outputs": [
        {
          "output_type": "stream",
          "text": [
            "Lista con 40 elementos aleatorios enteros [49, 147, 128, 82, 150, 64, 81, 79, 147, 14, 51, 80, 116, 7, 17, 132, 135, 4, 48, 50, 62, 47, 114, 62, 63, 45, 108, 141, 83, 128, 140, 17, 49, 62, 79, 114, 98, 117, 146, 18]\n"
          ],
          "name": "stdout"
        }
      ]
    },
    {
      "cell_type": "markdown",
      "metadata": {
        "id": "qdcbsVowy0Au"
      },
      "source": [
        "Con una funcion (def) crear dos listas nuevas a partir de la lista creada por numeros aleatorios, en la cual en una esten los elementos pares, y en la otra los elementos impares."
      ]
    },
    {
      "cell_type": "code",
      "metadata": {
        "colab": {
          "base_uri": "https://localhost:8080/"
        },
        "id": "YkymmeNXy2P6",
        "outputId": "41a70593-7179-4237-b807-fb895017b046"
      },
      "source": [
        "\n",
        "#creación y definición de la función\n",
        "def pares(lista):\n",
        "  listapares=[]\n",
        "  listaimpares=[]\n",
        "\n",
        "  for i in range(0,len(lista)):\n",
        "    if lista[i]%2==0:\n",
        "      listapares.append(lista[i])\n",
        "    else:\n",
        "      listaimpares.append(lista[i])\n",
        "\n",
        "  print(\"Elementos pares: \", listapares)\n",
        "  print(\"Elementos impares: \", listaimpares)\n",
        "  return listapares,listaimpares\n",
        "\n",
        "#llamando a la función\n",
        "listapares,listaimpares=pares(l1)\n"
      ],
      "execution_count": 423,
      "outputs": [
        {
          "output_type": "stream",
          "text": [
            "Elementos pares:  [128, 82, 150, 64, 14, 80, 116, 132, 4, 48, 50, 62, 114, 62, 108, 128, 140, 62, 114, 98, 146, 18]\n",
            "Elementos impares:  [49, 147, 81, 79, 147, 51, 7, 17, 135, 47, 63, 45, 141, 83, 17, 49, 79, 117]\n"
          ],
          "name": "stdout"
        }
      ]
    },
    {
      "cell_type": "markdown",
      "metadata": {
        "id": "FNai1ZLx-L7q"
      },
      "source": [
        "Crear dos variables con la longitud de ambas listas nuevas e imprimir las variables."
      ]
    },
    {
      "cell_type": "code",
      "metadata": {
        "colab": {
          "base_uri": "https://localhost:8080/"
        },
        "id": "C1FCF1osAl-z",
        "outputId": "feb610fd-115d-491c-8d11-87b3ed8779b0"
      },
      "source": [
        "len_listapares=len(listpares)\n",
        "len_listaimpares=len(listimpares)\n",
        "\n",
        "print(\"La longitud de la lista par es de: \", len_listapares, \" elementos\")\n",
        "print(\"La longitud de la lista impar es de: \", len_listaimpares, \" elementos\")"
      ],
      "execution_count": 424,
      "outputs": [
        {
          "output_type": "stream",
          "text": [
            "La longitud de la lista par es de:  19  elementos\n",
            "La longitud de la lista impar es de:  21  elementos\n"
          ],
          "name": "stdout"
        }
      ]
    },
    {
      "cell_type": "markdown",
      "metadata": {
        "id": "F9UwcNqCBTyN"
      },
      "source": [
        "Ordenar los elementos de la lista par de mayor a menor, y los de la lista impar de menor a mayor."
      ]
    },
    {
      "cell_type": "code",
      "metadata": {
        "colab": {
          "base_uri": "https://localhost:8080/"
        },
        "id": "LkS9gEt1BWKc",
        "outputId": "f8dc5dcb-a6a7-470f-d0bf-529162b4b44f"
      },
      "source": [
        "listapares.sort(reverse=True)\n",
        "print(\"Los elementos de la lista par ordenados de mayor a menor son: \", listapares)\n",
        "\n",
        "listaimpares.sort()\n",
        "print(\"Los elementos de la lista impar ordenados de menor a mayor son: \", listaimpares)"
      ],
      "execution_count": 425,
      "outputs": [
        {
          "output_type": "stream",
          "text": [
            "Los elementos de la lista par ordenados de mayor a menor son:  [150, 146, 140, 132, 128, 128, 116, 114, 114, 108, 98, 82, 80, 64, 62, 62, 62, 50, 48, 18, 14, 4]\n",
            "Los elementos de la lista impar ordenados de menor a mayor son:  [7, 17, 17, 45, 47, 49, 49, 51, 63, 79, 79, 81, 83, 117, 135, 141, 147, 147]\n"
          ],
          "name": "stdout"
        }
      ]
    },
    {
      "cell_type": "markdown",
      "metadata": {
        "id": "47uMErs9Cf7G"
      },
      "source": [
        "Utilizar al menos cuatro de las funciones de listas en python en la lista original de 40 elementos."
      ]
    },
    {
      "cell_type": "code",
      "metadata": {
        "colab": {
          "base_uri": "https://localhost:8080/"
        },
        "id": "SepiXk0CChps",
        "outputId": "30bc758f-f1c0-4671-bfd6-85becca9a2cb"
      },
      "source": [
        "print(\"lista original:\", l1)\n",
        "l1.append(4)\n",
        "print(\"lista con elemento 4 agregado al final: \", l1)\n",
        "l1.sort()\n",
        "print(\"lista ordenada de menor a mayor: \", l1)\n",
        "l1.pop(25)\n",
        "print(\"lista con el elemento de la posición 25 eliminado: \", l1)\n",
        "l1.insert(3,5)\n",
        "print(\"lista con el elemento 5 insertado en la posición 3: \", l1)"
      ],
      "execution_count": 426,
      "outputs": [
        {
          "output_type": "stream",
          "text": [
            "lista original: [49, 147, 128, 82, 150, 64, 81, 79, 147, 14, 51, 80, 116, 7, 17, 132, 135, 4, 48, 50, 62, 47, 114, 62, 63, 45, 108, 141, 83, 128, 140, 17, 49, 62, 79, 114, 98, 117, 146, 18]\n",
            "lista con elemento 4 agregado al final:  [49, 147, 128, 82, 150, 64, 81, 79, 147, 14, 51, 80, 116, 7, 17, 132, 135, 4, 48, 50, 62, 47, 114, 62, 63, 45, 108, 141, 83, 128, 140, 17, 49, 62, 79, 114, 98, 117, 146, 18, 4]\n",
            "lista ordenada de menor a mayor:  [4, 4, 7, 14, 17, 17, 18, 45, 47, 48, 49, 49, 50, 51, 62, 62, 62, 63, 64, 79, 79, 80, 81, 82, 83, 98, 108, 114, 114, 116, 117, 128, 128, 132, 135, 140, 141, 146, 147, 147, 150]\n",
            "lista con el elemento de la posición 25 eliminado:  [4, 4, 7, 14, 17, 17, 18, 45, 47, 48, 49, 49, 50, 51, 62, 62, 62, 63, 64, 79, 79, 80, 81, 82, 83, 108, 114, 114, 116, 117, 128, 128, 132, 135, 140, 141, 146, 147, 147, 150]\n",
            "lista con el elemento 5 insertado en la posición 3:  [4, 4, 7, 5, 14, 17, 17, 18, 45, 47, 48, 49, 49, 50, 51, 62, 62, 62, 63, 64, 79, 79, 80, 81, 82, 83, 108, 114, 114, 116, 117, 128, 128, 132, 135, 140, 141, 146, 147, 147, 150]\n"
          ],
          "name": "stdout"
        }
      ]
    },
    {
      "cell_type": "markdown",
      "metadata": {
        "id": "I1p-AzndFUFl"
      },
      "source": [
        "### **Diccionarios**"
      ]
    },
    {
      "cell_type": "markdown",
      "metadata": {
        "id": "PynHzDEKFV8_"
      },
      "source": [
        "Crear un diccionario de 6 personas que conozcas con su primer nombre y su edad."
      ]
    },
    {
      "cell_type": "code",
      "metadata": {
        "colab": {
          "base_uri": "https://localhost:8080/"
        },
        "id": "Icxf5Fz6FZ-u",
        "outputId": "a6bb6b04-18da-4df4-fce0-a7f8cb1b8a2e"
      },
      "source": [
        "#creación del diccionario\n",
        "dict1={'Aranza':20,'Diana':20,'Ricardo':22,'Alberto':20,'José':31,'Natalia':30}\n",
        "print(\"el diccionario es: \", dict1)"
      ],
      "execution_count": 427,
      "outputs": [
        {
          "output_type": "stream",
          "text": [
            "el diccionario es:  {'Aranza': 20, 'Diana': 20, 'Ricardo': 22, 'Alberto': 20, 'José': 31, 'Natalia': 30}\n"
          ],
          "name": "stdout"
        }
      ]
    },
    {
      "cell_type": "markdown",
      "metadata": {
        "id": "RPYbVgo0Jhkd"
      },
      "source": [
        "Crear una lista con los valores de la edad y reacomodar la lista de menor a mayor valor."
      ]
    },
    {
      "cell_type": "code",
      "metadata": {
        "id": "woWRT0_oJiwg",
        "colab": {
          "base_uri": "https://localhost:8080/"
        },
        "outputId": "af2449c6-6c1b-4667-98a2-cd445a443b70"
      },
      "source": [
        "#cremos y ordenamos la lista ('edades') de las edades de menor a mayor\n",
        "edades=dict1.values()\n",
        "ordenada=sorted(edades)\n",
        "\n",
        "#impresión\n",
        "print(\"La lista de las edades de menor a mayor es: \",ordenada)"
      ],
      "execution_count": 428,
      "outputs": [
        {
          "output_type": "stream",
          "text": [
            "La lista de las edades de menor a mayor es:  [20, 20, 20, 22, 30, 31]\n"
          ],
          "name": "stdout"
        }
      ]
    },
    {
      "cell_type": "markdown",
      "metadata": {
        "id": "HDFpdZMFReYS"
      },
      "source": [
        "Usando el diccionario y un loop, imprimir solo los nombres."
      ]
    },
    {
      "cell_type": "code",
      "metadata": {
        "colab": {
          "base_uri": "https://localhost:8080/"
        },
        "id": "7FE2Q4qGRfP4",
        "outputId": "712685d9-e13d-491e-cb18-846bd067f53c"
      },
      "source": [
        "print(\"Los nombres del diccionario son:\")\n",
        "\n",
        "#loop que imprime los nombres del diccionario\n",
        "for i in dict1:\n",
        "  print(i)"
      ],
      "execution_count": 429,
      "outputs": [
        {
          "output_type": "stream",
          "text": [
            "Los nombres del diccionario son:\n",
            "Aranza\n",
            "Diana\n",
            "Ricardo\n",
            "Alberto\n",
            "José\n",
            "Natalia\n"
          ],
          "name": "stdout"
        }
      ]
    },
    {
      "cell_type": "markdown",
      "metadata": {
        "id": "P6DHLehXSZZK"
      },
      "source": [
        "Añadir dos personas nuevas a tu diccionario, incluyendo edad."
      ]
    },
    {
      "cell_type": "code",
      "metadata": {
        "colab": {
          "base_uri": "https://localhost:8080/"
        },
        "id": "x30vBQaTSaKd",
        "outputId": "b141e3dd-ec84-4cbe-aae2-d5e5e932d08a"
      },
      "source": [
        "dict1['Juan']=30\n",
        "dict1['Jesús']=35\n",
        "print(dict1)"
      ],
      "execution_count": 430,
      "outputs": [
        {
          "output_type": "stream",
          "text": [
            "{'Aranza': 20, 'Diana': 20, 'Ricardo': 22, 'Alberto': 20, 'José': 31, 'Natalia': 30, 'Juan': 30, 'Jesús': 35}\n"
          ],
          "name": "stdout"
        }
      ]
    },
    {
      "cell_type": "markdown",
      "metadata": {
        "id": "IS7afPhZUxBJ"
      },
      "source": [
        "### **Sets**"
      ]
    },
    {
      "cell_type": "markdown",
      "metadata": {
        "id": "cQ31diD1Wa9N"
      },
      "source": [
        "Crea un set con 100 numeros aleatorios enteros del 1 al 25."
      ]
    },
    {
      "cell_type": "code",
      "metadata": {
        "colab": {
          "base_uri": "https://localhost:8080/"
        },
        "id": "O3O9eaY0U4Cx",
        "outputId": "8a0ac599-81b8-48c4-be9d-a1e658f21f2e"
      },
      "source": [
        "#creamos set vacío\n",
        "set1=set()\n",
        "\n",
        "#loop para llenar el set con 100 números aleatorios del 1 al 25\n",
        "for i in range(0,100):\n",
        "  set1.add(random.randint(1,25))\n",
        "\n",
        "print(\"El set es:\", set1)\n"
      ],
      "execution_count": 431,
      "outputs": [
        {
          "output_type": "stream",
          "text": [
            "El set es: {1, 2, 3, 4, 5, 6, 7, 8, 9, 10, 11, 12, 13, 14, 15, 16, 17, 18, 19, 20, 21, 22, 23, 24, 25}\n"
          ],
          "name": "stdout"
        }
      ]
    },
    {
      "cell_type": "markdown",
      "metadata": {
        "id": "CHZ1BbtTXJ4j"
      },
      "source": [
        "Comprueba la longitud de tu set."
      ]
    },
    {
      "cell_type": "code",
      "metadata": {
        "colab": {
          "base_uri": "https://localhost:8080/"
        },
        "id": "YmYPTrsTXLhn",
        "outputId": "e80d9a36-f543-4de5-bc0c-d51b2161813d"
      },
      "source": [
        "print(\"La longitud del set es de: \", len(set1))"
      ],
      "execution_count": 432,
      "outputs": [
        {
          "output_type": "stream",
          "text": [
            "La longitud del set es de:  25\n"
          ],
          "name": "stdout"
        }
      ]
    },
    {
      "cell_type": "markdown",
      "metadata": {
        "id": "XyQj2j0AXbSa"
      },
      "source": [
        "Crea una lista de 5 numeros aleatorios del 1 al 10 y comprueba si cada valor aparece en el set inicial."
      ]
    },
    {
      "cell_type": "code",
      "metadata": {
        "colab": {
          "base_uri": "https://localhost:8080/"
        },
        "id": "eheXa-V6XdcO",
        "outputId": "0a8ea7bc-7dbd-42b2-f875-e50fa9e513b8"
      },
      "source": [
        "#creamos lista vacía\n",
        "l3=[]\n",
        "\n",
        "#loop para llenar la lista con 5 números aleatorios\n",
        "for i in range(0,5):\n",
        "  l3.append(random.randint(1,10))\n",
        "\n",
        "#impresiones\n",
        "print(\"Set inicial:\", set1)\n",
        "print(\"Lista con 5 elementos aleatorios enteros:\",l3)\n",
        "\n",
        "#loop para comprobar si cada valor aparece en el set inicial\n",
        "for i in range(0,5):\n",
        "  if l3[i] in set1:\n",
        "    print(\"El elemento\", l3[i], \"aparece en el set inicial.\")\n",
        "  else:\n",
        "    print(\"El elemento\", l3[i], \"aparece está en el set inicial.\")\n"
      ],
      "execution_count": 433,
      "outputs": [
        {
          "output_type": "stream",
          "text": [
            "Set inicial: {1, 2, 3, 4, 5, 6, 7, 8, 9, 10, 11, 12, 13, 14, 15, 16, 17, 18, 19, 20, 21, 22, 23, 24, 25}\n",
            "Lista con 5 elementos aleatorios enteros: [6, 9, 10, 4, 7]\n",
            "El elemento 6 aparece en el set inicial.\n",
            "El elemento 9 aparece en el set inicial.\n",
            "El elemento 10 aparece en el set inicial.\n",
            "El elemento 4 aparece en el set inicial.\n",
            "El elemento 7 aparece en el set inicial.\n"
          ],
          "name": "stdout"
        }
      ]
    }
  ]
}